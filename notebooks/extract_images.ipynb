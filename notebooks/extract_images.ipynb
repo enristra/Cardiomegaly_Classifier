{
 "cells": [
  {
   "cell_type": "code",
   "execution_count": 1,
   "id": "9787c504",
   "metadata": {},
   "outputs": [
    {
     "name": "stdout",
     "output_type": "stream",
     "text": [
      "Requirement already satisfied: medmnist in ./.venv/lib/python3.12/site-packages (3.0.2)\n",
      "Requirement already satisfied: numpy in ./.venv/lib/python3.12/site-packages (from medmnist) (2.3.1)\n",
      "Requirement already satisfied: pandas in ./.venv/lib/python3.12/site-packages (from medmnist) (2.3.0)\n",
      "Requirement already satisfied: scikit-learn in ./.venv/lib/python3.12/site-packages (from medmnist) (1.7.0)\n",
      "Requirement already satisfied: scikit-image in ./.venv/lib/python3.12/site-packages (from medmnist) (0.25.2)\n",
      "Requirement already satisfied: tqdm in ./.venv/lib/python3.12/site-packages (from medmnist) (4.67.1)\n",
      "Requirement already satisfied: Pillow in ./.venv/lib/python3.12/site-packages (from medmnist) (11.2.1)\n",
      "Requirement already satisfied: fire in ./.venv/lib/python3.12/site-packages (from medmnist) (0.7.0)\n",
      "Requirement already satisfied: torch in ./.venv/lib/python3.12/site-packages (from medmnist) (2.7.1)\n",
      "Requirement already satisfied: torchvision in ./.venv/lib/python3.12/site-packages (from medmnist) (0.22.1)\n",
      "Requirement already satisfied: termcolor in ./.venv/lib/python3.12/site-packages (from fire->medmnist) (3.1.0)\n",
      "Requirement already satisfied: python-dateutil>=2.8.2 in ./.venv/lib/python3.12/site-packages (from pandas->medmnist) (2.9.0.post0)\n",
      "Requirement already satisfied: pytz>=2020.1 in ./.venv/lib/python3.12/site-packages (from pandas->medmnist) (2025.2)\n",
      "Requirement already satisfied: tzdata>=2022.7 in ./.venv/lib/python3.12/site-packages (from pandas->medmnist) (2025.2)\n",
      "Requirement already satisfied: six>=1.5 in ./.venv/lib/python3.12/site-packages (from python-dateutil>=2.8.2->pandas->medmnist) (1.17.0)\n",
      "Requirement already satisfied: scipy>=1.11.4 in ./.venv/lib/python3.12/site-packages (from scikit-image->medmnist) (1.16.0)\n",
      "Requirement already satisfied: networkx>=3.0 in ./.venv/lib/python3.12/site-packages (from scikit-image->medmnist) (3.5)\n",
      "Requirement already satisfied: imageio!=2.35.0,>=2.33 in ./.venv/lib/python3.12/site-packages (from scikit-image->medmnist) (2.37.0)\n",
      "Requirement already satisfied: tifffile>=2022.8.12 in ./.venv/lib/python3.12/site-packages (from scikit-image->medmnist) (2025.6.11)\n",
      "Requirement already satisfied: packaging>=21 in ./.venv/lib/python3.12/site-packages (from scikit-image->medmnist) (25.0)\n",
      "Requirement already satisfied: lazy-loader>=0.4 in ./.venv/lib/python3.12/site-packages (from scikit-image->medmnist) (0.4)\n",
      "Requirement already satisfied: joblib>=1.2.0 in ./.venv/lib/python3.12/site-packages (from scikit-learn->medmnist) (1.5.1)\n",
      "Requirement already satisfied: threadpoolctl>=3.1.0 in ./.venv/lib/python3.12/site-packages (from scikit-learn->medmnist) (3.6.0)\n",
      "Requirement already satisfied: filelock in ./.venv/lib/python3.12/site-packages (from torch->medmnist) (3.18.0)\n",
      "Requirement already satisfied: typing-extensions>=4.10.0 in ./.venv/lib/python3.12/site-packages (from torch->medmnist) (4.14.0)\n",
      "Requirement already satisfied: setuptools in ./.venv/lib/python3.12/site-packages (from torch->medmnist) (80.9.0)\n",
      "Requirement already satisfied: sympy>=1.13.3 in ./.venv/lib/python3.12/site-packages (from torch->medmnist) (1.14.0)\n",
      "Requirement already satisfied: jinja2 in ./.venv/lib/python3.12/site-packages (from torch->medmnist) (3.1.6)\n",
      "Requirement already satisfied: fsspec in ./.venv/lib/python3.12/site-packages (from torch->medmnist) (2025.5.1)\n",
      "Requirement already satisfied: mpmath<1.4,>=1.1.0 in ./.venv/lib/python3.12/site-packages (from sympy>=1.13.3->torch->medmnist) (1.3.0)\n",
      "Requirement already satisfied: MarkupSafe>=2.0 in ./.venv/lib/python3.12/site-packages (from jinja2->torch->medmnist) (3.0.2)\n",
      "Note: you may need to restart the kernel to use updated packages.\n"
     ]
    }
   ],
   "source": [
    "%pip install medmnist"
   ]
  },
  {
   "cell_type": "code",
   "execution_count": 2,
   "id": "f790f9de",
   "metadata": {},
   "outputs": [
    {
     "name": "stdout",
     "output_type": "stream",
     "text": [
      "librerie importate!\n"
     ]
    }
   ],
   "source": [
    "import medmnist\n",
    "from medmnist import INFO\n",
    "import numpy as np\n",
    "import os\n",
    "from PIL import Image\n",
    "import torchvision.transforms as transforms\n",
    "import matplotlib.pyplot as plt\n",
    "\n",
    "print(\"librerie importate!\")\n"
   ]
  },
  {
   "cell_type": "code",
   "execution_count": 3,
   "id": "59a4fc8a-1e88-45c8-8299-e985e0cd29e3",
   "metadata": {},
   "outputs": [
    {
     "name": "stdout",
     "output_type": "stream",
     "text": [
      "inizio salvataggio di 100 immagini..\n",
      "Completato. Salvate 100 immagini e il file 'labels.npy' in ../data/ChestMNIST_Images'.\n"
     ]
    }
   ],
   "source": [
    "data_flag='chestmnist'\n",
    "download=True\n",
    "info =INFO[data_flag]\n",
    "DataClass=getattr(medmnist,info['python_class'])\n",
    "\n",
    "raw_image_transform = transforms.Compose([\n",
    "    transforms.Resize(224),\n",
    "])\n",
    "\n",
    "#caricamento dataset\n",
    "test_dataset_raw = DataClass(split='test',transform=raw_image_transform,download=download)\n",
    "\n",
    "output_images_dir = '../data/ChestMNIST_Images'\n",
    "os.makedirs(output_images_dir, exist_ok=True)\n",
    "\n",
    "num_images_to_save=100\n",
    "print(f\"inizio salvataggio di {num_images_to_save} immagini..\")\n",
    "for i in range(min(len(test_dataset_raw), num_images_to_save)):\n",
    "    img_pil, label_tensor = test_dataset_raw[i]\n",
    "\n",
    "    img_np=np.array(img_pil).astype(np.uint8)\n",
    "    \n",
    "    img_filepath = os.path.join(output_images_dir, f'image_{i:04d}.npy')\n",
    "    np.save(img_filepath, img_np)\n",
    "\n",
    "    if i==0:\n",
    "        labels_for_saved_images = np.array([test_dataset_raw[j][1] for j in range(min(len(test_dataset_raw), num_images_to_save))])\n",
    "        np.save(os.path.join(output_images_dir, 'labels.npy'), labels_for_saved_images)\n",
    "\n",
    "print(f\"Completato. Salvate {num_images_to_save} immagini e il file 'labels.npy' in {output_images_dir}'.\")\n"
   ]
  },
  {
   "cell_type": "code",
   "execution_count": null,
   "id": "fb3767c4-572b-48fa-9fa8-9420de9cd9f3",
   "metadata": {},
   "outputs": [],
   "source": []
  }
 ],
 "metadata": {
  "kernelspec": {
   "display_name": "Python (.venv) - Cardiomegaly",
   "language": "python",
   "name": ".venv"
  },
  "language_info": {
   "codemirror_mode": {
    "name": "ipython",
    "version": 3
   },
   "file_extension": ".py",
   "mimetype": "text/x-python",
   "name": "python",
   "nbconvert_exporter": "python",
   "pygments_lexer": "ipython3",
   "version": "3.12.3"
  }
 },
 "nbformat": 4,
 "nbformat_minor": 5
}
