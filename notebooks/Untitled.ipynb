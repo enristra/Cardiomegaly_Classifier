{
 "cells": [
  {
   "cell_type": "code",
   "execution_count": null,
   "id": "09d590d0-3645-4b45-b1fa-7b73e700eecb",
   "metadata": {},
   "outputs": [],
   "source": [
    "%pip install PyQt6"
   ]
  },
  {
   "cell_type": "code",
   "execution_count": 1,
   "id": "3642858a-8dbd-49fd-a470-37a0d23fcc67",
   "metadata": {},
   "outputs": [],
   "source": [
    "%matplotlib qt\n",
    "import numpy as np\n",
    "import matplotlib.pyplot as plt\n",
    "import os\n",
    "import re"
   ]
  },
  {
   "cell_type": "code",
   "execution_count": 2,
   "id": "5bb3db2f-af47-4d29-9b08-f5ab549378d9",
   "metadata": {},
   "outputs": [
    {
     "name": "stdout",
     "output_type": "stream",
     "text": [
      "Pesi caricati con forma: (224, 224)\n"
     ]
    }
   ],
   "source": [
    "weights_filepath = '../data/weights/cardiomegaly_weights_224x224.npy'\n",
    "images_dir= '../data/ChestMNIST_Images'\n",
    "\n",
    "#caricamento pesi\n",
    "try:\n",
    "    weights = np.load(weights_filepath)\n",
    "    if(weights.size == 224*224):\n",
    "        weights = weights.reshape((224,224))\n",
    "    else:\n",
    "        print(f\"Errore: i pesi hanno una forma inaspettata: {weights.shape}\")\n",
    "        weights = None\n",
    "    print(f\"Pesi caricati con forma: {weights.shape}\")\n",
    "\n",
    "except FileNotFoundError:\n",
    "    print(f\"Errore: file dei pesi non trovato a {weights_filepath}. Caricamento interrotto\")\n",
    "    weights=None\n",
    "except Exception as e:\n",
    "    print(f\"Si è verificato un errore durante il caricamento dei pesi: {e}\")\n"
   ]
  },
  {
   "cell_type": "code",
   "execution_count": 6,
   "id": "a3686dec-1e09-443d-9e1c-7069feee7ac4",
   "metadata": {},
   "outputs": [
    {
     "name": "stdout",
     "output_type": "stream",
     "text": [
      "Inizio visualizzazione di 10 immagini..\n",
      "Visualizzazione completata.\n"
     ]
    }
   ],
   "source": [
    "NUM_IMAGES_TO_SHOW= 10\n",
    "\n",
    "if weights is None:\n",
    "    print(\"pesi non caricati\")\n",
    "else:\n",
    "    image_filenames = []\n",
    "for i in range(NUM_IMAGES_TO_SHOW):\n",
    "    image_filenames.append(f\"image_{i:04d}.npy\")\n",
    "\n",
    "print(f\"Inizio visualizzazione di {len(image_filenames)} immagini..\")\n",
    "\n",
    "for i, filename in enumerate(image_filenames):\n",
    "    image_filepath = os.path.join(images_dir, filename)\n",
    "\n",
    "    try:\n",
    "        image_data = np.load(image_filepath)\n",
    "\n",
    "        if image_data.shape != (224,224) and image_data.size == 224*224:\n",
    "            image_data = image_data.reshape((224,224))\n",
    "\n",
    "        if image_data.dtype == np.uint8:\n",
    "            image_data_display = image_data /255.0\n",
    "        else:\n",
    "            image_data_display = image_data\n",
    "\n",
    "        plt.imshow(image_data_display, cmap='gray', origin='upper', interpolation='nearest')\n",
    "        plt.title(f'Immagine Originale: {filename}')\n",
    "        plt.axis('off')\n",
    "        plt.show()\n",
    "\n",
    "        fig, ax = plt.subplots(figsize=(8, 8))\n",
    "\n",
    "        ax.imshow(image_data_display, cmap='gray', origin='upper', interpolation='bilinear')\n",
    "\n",
    "        im = ax.imshow(weights, cmap='coolwarm', alpha=0.4, origin='upper', interpolation='nearest', vmin=np.min(weights), vmax=np.max(weights))\n",
    "\n",
    "        cbar = fig.colorbar(im, ax=ax, fraction= 0.046, pad=0.04)\n",
    "        cbar.set_label('Valore del Peso')\n",
    "\n",
    "        ax.set_title(f'Immagine: {filename} con Pesi Sovrapposti')\n",
    "        ax.axis('off')\n",
    "\n",
    "        plt.show()\n",
    "\n",
    "    except FileNotFoundError:\n",
    "        print(f\"Errore: Immagine non trovata a {image_filepath}. Saltando.\")\n",
    "    except Exception as e:\n",
    "        print(f\"Si è verificato un errore durante l'elaborazione di {filename}: {e}\")\n",
    "\n",
    "print(\"Visualizzazione completata.\")\n",
    "\n",
    "        "
   ]
  }
 ],
 "metadata": {
  "kernelspec": {
   "display_name": "Python (.venv) - Cardiomegaly",
   "language": "python",
   "name": ".venv"
  },
  "language_info": {
   "codemirror_mode": {
    "name": "ipython",
    "version": 3
   },
   "file_extension": ".py",
   "mimetype": "text/x-python",
   "name": "python",
   "nbconvert_exporter": "python",
   "pygments_lexer": "ipython3",
   "version": "3.12.3"
  }
 },
 "nbformat": 4,
 "nbformat_minor": 5
}
