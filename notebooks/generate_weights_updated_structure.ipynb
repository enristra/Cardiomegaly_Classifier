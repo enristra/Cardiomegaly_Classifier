{
 "cells": [
  {
   "cell_type": "markdown",
   "id": "f91d5662",
   "metadata": {},
   "source": [
    "# 🧠 Generazione Pesi per Cardiomegaly Classifier\n",
    "\n",
    "Versione aggiornata che:\n",
    "- Usa immagini monocanale (grayscale)\n",
    "- Compensa lo sbilanciamento delle classi usando `pos_weight`\n",
    "- Salva i pesi in formato 224×224\n",
    "- Visualizza la heatmap dei pesi\n"
   ]
  },
  {
   "cell_type": "code",
   "execution_count": 1,
   "id": "912aa18f",
   "metadata": {},
   "outputs": [],
   "source": [
    "import numpy as np\n",
    "import matplotlib.pyplot as plt\n",
    "import os\n",
    "from sklearn.linear_model import LogisticRegression\n",
    "from sklearn.model_selection import train_test_split\n"
   ]
  },
  {
   "cell_type": "code",
   "execution_count": null,
   "id": "48d24bf9",
   "metadata": {},
   "outputs": [],
   "source": [
    "# Percorsi ai file\n",
    "image_path = \"../data/ChestMNIST_Images/images.npy\"\n",
    "label_path = \"../data/ChestMNIST_Images/labels.npy\"\n",
    "\n",
    "# Caricamento dati\n",
    "images = np.load(image_path)  # Shape attesa: (N, 1, 224, 224)\n",
    "labels = np.load(label_path)  # Shape: (N, 14)\n",
    "\n",
    "print(\"Images shape:\", images.shape)\n",
    "print(\"Labels shape:\", labels.shape)\n"
   ]
  },
  {
   "cell_type": "code",
   "execution_count": null,
   "id": "cfd23f1b",
   "metadata": {},
   "outputs": [],
   "source": [
    "# Estrai immagini monocanale\n",
    "X = images[:, 0]  # (N, 224, 224)\n",
    "X = X.astype(np.float32) / 255.0\n",
    "X = (X - 0.5) / 0.5  # Normalizzazione -1 a 1\n",
    "X = X.reshape(X.shape[0], -1)  # Flatten per regressione\n",
    "\n",
    "# Estrai etichette per la cardiomegalia\n",
    "y = labels[:, 1]  # 0 = assente, 1 = presente\n",
    "\n",
    "print(\"Dati preprocessati:\")\n",
    "print(\"X:\", X.shape)\n",
    "print(\"y:\", y.shape)\n",
    "print(\"Positivi:\", np.sum(y))\n",
    "print(\"Negativi:\", len(y) - np.sum(y))\n"
   ]
  },
  {
   "cell_type": "code",
   "execution_count": null,
   "id": "548371a7",
   "metadata": {},
   "outputs": [],
   "source": [
    "# Split per evitare overfitting sullo stesso set\n",
    "X_train, X_val, y_train, y_val = train_test_split(\n",
    "    X, y, test_size=0.2, random_state=42, stratify=y\n",
    ")\n",
    "\n",
    "# Calcolo del bilanciamento\n",
    "n_pos = np.sum(y_train == 1)\n",
    "n_neg = np.sum(y_train == 0)\n",
    "pos_weight = n_neg / n_pos\n",
    "print(f\"pos_weight = {pos_weight:.2f}\")\n"
   ]
  },
  {
   "cell_type": "code",
   "execution_count": null,
   "id": "297e1b64",
   "metadata": {},
   "outputs": [],
   "source": [
    "model = LogisticRegression(\n",
    "    max_iter=1000,\n",
    "    class_weight={0: 1.0, 1: pos_weight},\n",
    "    solver=\"saga\",\n",
    "    random_state=42\n",
    ")\n",
    "model.fit(X_train, y_train)\n",
    "\n",
    "val_acc = model.score(X_val, y_val)\n",
    "print(f\"Validation accuracy: {val_acc:.3f}\")\n"
   ]
  },
  {
   "cell_type": "code",
   "execution_count": null,
   "id": "6e825a9c",
   "metadata": {},
   "outputs": [],
   "source": [
    "weights = model.coef_.reshape(224, 224)\n",
    "os.makedirs(\"../data/weights\", exist_ok=True)\n",
    "np.save(\"../data/weights/cardiomegaly_weights_224x224_trained.npy\", weights)\n",
    "print(\"Pesi salvati con shape:\", weights.shape)\n"
   ]
  },
  {
   "cell_type": "code",
   "execution_count": null,
   "id": "a65a10de",
   "metadata": {},
   "outputs": [],
   "source": [
    "plt.figure(figsize=(6, 6))\n",
    "plt.imshow(weights, cmap=\"bwr\", vmin=-np.max(np.abs(weights)), vmax=np.max(np.abs(weights)))\n",
    "plt.colorbar(label=\"Peso\")\n",
    "plt.title(\"Heatmap dei pesi (bilanciata, monocanale)\")\n",
    "plt.axis(\"off\")\n",
    "plt.tight_layout()\n",
    "plt.show()\n"
   ]
  }
 ],
 "metadata": {
  "kernelspec": {
   "display_name": ".venv (3.12.3)",
   "language": "python",
   "name": "python3"
  },
  "language_info": {
   "codemirror_mode": {
    "name": "ipython",
    "version": 3
   },
   "file_extension": ".py",
   "mimetype": "text/x-python",
   "name": "python",
   "nbconvert_exporter": "python",
   "pygments_lexer": "ipython3",
   "version": "3.12.3"
  }
 },
 "nbformat": 4,
 "nbformat_minor": 5
}
